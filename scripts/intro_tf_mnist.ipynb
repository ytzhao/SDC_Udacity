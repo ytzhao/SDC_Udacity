{
 "cells": [
  {
   "cell_type": "markdown",
   "metadata": {},
   "source": [
    "# 1. Basics of TensorFlow"
   ]
  },
  {
   "cell_type": "code",
   "execution_count": 1,
   "metadata": {
    "collapsed": true,
    "deletable": true,
    "editable": true
   },
   "outputs": [],
   "source": [
    "import tensorflow as tf"
   ]
  },
  {
   "cell_type": "code",
   "execution_count": 2,
   "metadata": {
    "collapsed": false,
    "deletable": true,
    "editable": true
   },
   "outputs": [
    {
     "name": "stdout",
     "output_type": "stream",
     "text": [
      "b'Hello TF'\n"
     ]
    }
   ],
   "source": [
    "hello_constant = tf.constant(\"Hello TF\")\n",
    "\n",
    "with tf.Session() as sess:\n",
    "    output = sess.run(hello_constant)\n",
    "    print (output)"
   ]
  },
  {
   "cell_type": "code",
   "execution_count": 3,
   "metadata": {
    "collapsed": false,
    "deletable": true,
    "editable": true
   },
   "outputs": [
    {
     "name": "stdout",
     "output_type": "stream",
     "text": [
      "method 1, z: 4.000000\n",
      "method 2, z: 4.000000\n"
     ]
    }
   ],
   "source": [
    "# TODO: z = x/y - 1\n",
    "# Method 1\n",
    "x = tf.constant(10.0)\n",
    "y = tf.constant(2.0)\n",
    "z = tf.subtract( tf.div(x,y), tf.cast(tf.constant(1), tf.float32) )\n",
    "\n",
    "with tf.Session() as sess:\n",
    "    z = sess.run(z)\n",
    "    print(\"method 1, z: {:.6f}\".format(z))\n",
    "\n",
    "    \n",
    "# Method 2\n",
    "x = tf.placeholder(tf.float32)\n",
    "y = tf.placeholder(tf.float32)\n",
    "z = tf.placeholder(tf.float32)\n",
    "\n",
    "with tf.Session() as sess:\n",
    "    output = sess.run(tf.subtract((tf.div(x,y)), z), feed_dict={x: 10.0, y: 2.0, z: 1.0})\n",
    "    print (\"method 2, z: {:.6f}\".format(output))"
   ]
  },
  {
   "cell_type": "markdown",
   "metadata": {},
   "source": [
    "# 2. TensorFlow example with MNIST"
   ]
  },
  {
   "cell_type": "code",
   "execution_count": 4,
   "metadata": {
    "collapsed": true,
    "deletable": true,
    "editable": true
   },
   "outputs": [],
   "source": [
    "import numpy as np\n",
    "from tensorflow.examples.tutorials.mnist import input_data"
   ]
  },
  {
   "cell_type": "code",
   "execution_count": 5,
   "metadata": {
    "collapsed": false
   },
   "outputs": [
    {
     "name": "stdout",
     "output_type": "stream",
     "text": [
      "Extracting ./train-images-idx3-ubyte.gz\n",
      "Extracting ./train-labels-idx1-ubyte.gz\n",
      "Extracting ./t10k-images-idx3-ubyte.gz\n",
      "Extracting ./t10k-labels-idx1-ubyte.gz\n"
     ]
    }
   ],
   "source": [
    "mnist = input_data.read_data_sets('.', one_hot=True, reshape=False)"
   ]
  },
  {
   "cell_type": "code",
   "execution_count": 6,
   "metadata": {
    "collapsed": false
   },
   "outputs": [],
   "source": [
    "train_x = mnist.train.images\n",
    "valid_x = mnist.validation.images\n",
    "test_x  = mnist.test.images\n",
    "\n",
    "train_y   = mnist.train.labels.astype(np.float32)\n",
    "valid_y   = mnist.validation.labels.astype(np.float32)\n",
    "test_y    = mnist.test.labels.astype(np.float32)"
   ]
  },
  {
   "cell_type": "code",
   "execution_count": 7,
   "metadata": {
    "collapsed": true
   },
   "outputs": [],
   "source": [
    "# Set learning parameters\n",
    "learning_rate   = 0.001\n",
    "training_epochs = 20\n",
    "batch_size      = 128\n",
    "\n",
    "n_input   = 784 # img: 28*28\n",
    "n_classes = 10  # 0-9 digits"
   ]
  },
  {
   "cell_type": "code",
   "execution_count": 8,
   "metadata": {
    "collapsed": true
   },
   "outputs": [],
   "source": [
    "# Set hidden layer parameters\n",
    "n_hidden_layer = 256"
   ]
  },
  {
   "cell_type": "code",
   "execution_count": 9,
   "metadata": {
    "collapsed": true
   },
   "outputs": [],
   "source": [
    "# Input\n",
    "x = tf.placeholder('float', [None, 28, 28, 1])\n",
    "y = tf.placeholder('float', [None, n_classes])\n",
    "\n",
    "x_flat = tf.reshape(x, [-1, n_input])"
   ]
  },
  {
   "cell_type": "code",
   "execution_count": 10,
   "metadata": {
    "collapsed": false
   },
   "outputs": [],
   "source": [
    "# Set layer weights and biases\n",
    "weights = {\n",
    "    'hidden_layer': tf.Variable(tf.truncated_normal([n_input, n_hidden_layer])),\n",
    "    'out': tf.Variable(tf.truncated_normal([n_hidden_layer, n_classes]))\n",
    "}\n",
    "biases  = {\n",
    "    'hidden_layer': tf.Variable(tf.zeros(n_hidden_layer)),\n",
    "    'out': tf.Variable(tf.zeros(n_classes))\n",
    "}"
   ]
  },
  {
   "cell_type": "code",
   "execution_count": 11,
   "metadata": {
    "collapsed": true
   },
   "outputs": [],
   "source": [
    "# Multilayer perceptron\n",
    "hidden_output = tf.add(tf.matmul(x_flat, weights['hidden_layer']), biases['hidden_layer'])\n",
    "logits_input = tf.nn.relu(hidden_output)\n",
    "logits = tf.add(tf.matmul(logits_input, weights['out']), biases['out'])"
   ]
  },
  {
   "cell_type": "code",
   "execution_count": 12,
   "metadata": {
    "collapsed": true
   },
   "outputs": [],
   "source": [
    "# Cost and optimizer\n",
    "cost = tf.reduce_mean(tf.nn.softmax_cross_entropy_with_logits(logits=logits, labels=y))\n",
    "optimizer = tf.train.GradientDescentOptimizer(learning_rate=learning_rate).minimize(cost)"
   ]
  },
  {
   "cell_type": "code",
   "execution_count": 13,
   "metadata": {
    "collapsed": false
   },
   "outputs": [],
   "source": [
    "# Calculate accuracy\n",
    "correct_prediction = tf.equal(tf.argmax(logits, 1), tf.argmax(y, 1))\n",
    "accuracy = tf.reduce_mean(tf.cast(correct_prediction, tf.float32))"
   ]
  },
  {
   "cell_type": "code",
   "execution_count": 14,
   "metadata": {
    "collapsed": true
   },
   "outputs": [],
   "source": [
    "def print_epoch_stats(epoch_i, sess, last_x, last_y):\n",
    "    \"\"\"\n",
    "    Print cost and validation accuracy of an epoch\n",
    "    \"\"\"\n",
    "    current_cost   = sess.run(cost, feed_dict={x: last_x, y: last_y})\n",
    "    valid_accuracy = sess.run(accuracy, feed_dict={x: valid_x, y: valid_y})\n",
    "    print('Epoch: {:<4} - Cost: {:<8.3} Valid Accuracy: {:<5.3}'.format(epoch_i, current_cost, valid_accuracy))"
   ]
  },
  {
   "cell_type": "code",
   "execution_count": 15,
   "metadata": {
    "collapsed": false
   },
   "outputs": [
    {
     "name": "stdout",
     "output_type": "stream",
     "text": [
      "Epoch: 0    - Cost: 19.1     Valid Accuracy: 0.393\n",
      "Epoch: 1    - Cost: 21.3     Valid Accuracy: 0.553\n",
      "Epoch: 2    - Cost: 11.0     Valid Accuracy: 0.629\n",
      "Epoch: 3    - Cost: 17.4     Valid Accuracy: 0.672\n",
      "Epoch: 4    - Cost: 11.3     Valid Accuracy: 0.7  \n",
      "Epoch: 5    - Cost: 7.84     Valid Accuracy: 0.72 \n",
      "Epoch: 6    - Cost: 8.14     Valid Accuracy: 0.736\n",
      "Epoch: 7    - Cost: 8.64     Valid Accuracy: 0.752\n",
      "Epoch: 8    - Cost: 6.44     Valid Accuracy: 0.762\n",
      "Epoch: 9    - Cost: 6.97     Valid Accuracy: 0.772\n",
      "Epoch: 10   - Cost: 6.25     Valid Accuracy: 0.782\n",
      "Epoch: 11   - Cost: 5.66     Valid Accuracy: 0.787\n",
      "Epoch: 12   - Cost: 6.62     Valid Accuracy: 0.794\n",
      "Epoch: 13   - Cost: 5.5      Valid Accuracy: 0.8  \n",
      "Epoch: 14   - Cost: 6.45     Valid Accuracy: 0.806\n",
      "Epoch: 15   - Cost: 7.03     Valid Accuracy: 0.811\n",
      "Epoch: 16   - Cost: 3.25     Valid Accuracy: 0.816\n",
      "Epoch: 17   - Cost: 6.63     Valid Accuracy: 0.82 \n",
      "Epoch: 18   - Cost: 6.83     Valid Accuracy: 0.824\n",
      "Epoch: 19   - Cost: 3.19     Valid Accuracy: 0.828\n",
      "Test Accuracy: 0.8263000249862671\n"
     ]
    }
   ],
   "source": [
    "# Run session\n",
    "with tf.Session() as sess:\n",
    "    sess.run(tf.global_variables_initializer())\n",
    "    for e in range(training_epochs):\n",
    "        total_batch = int(mnist.train.num_examples/batch_size)\n",
    "        for i in range(total_batch):\n",
    "            batch_x, batch_y = mnist.train.next_batch(batch_size)\n",
    "            train_feed_dict = {\n",
    "                x: batch_x, \n",
    "                y: batch_y }\n",
    "            sess.run(optimizer, train_feed_dict)\n",
    "        print_epoch_stats(e, sess, batch_x, batch_y)\n",
    "        \n",
    "    # Calculate accuracy for test dataset\n",
    "    test_accuracy = sess.run(accuracy, feed_dict={x: test_x, y: test_y})\n",
    "\n",
    "print('Test Accuracy: {}'.format(test_accuracy))"
   ]
  },
  {
   "cell_type": "code",
   "execution_count": null,
   "metadata": {
    "collapsed": true
   },
   "outputs": [],
   "source": []
  }
 ],
 "metadata": {
  "anaconda-cloud": {},
  "kernelspec": {
   "display_name": "Python 3",
   "language": "python",
   "name": "python3"
  },
  "language_info": {
   "codemirror_mode": {
    "name": "ipython",
    "version": 3
   },
   "file_extension": ".py",
   "mimetype": "text/x-python",
   "name": "python",
   "nbconvert_exporter": "python",
   "pygments_lexer": "ipython3",
   "version": "3.5.2"
  },
  "widgets": {
   "state": {},
   "version": "1.1.2"
  }
 },
 "nbformat": 4,
 "nbformat_minor": 0
}
